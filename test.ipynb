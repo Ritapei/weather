{
 "cells": [
  {
   "cell_type": "code",
   "execution_count": 17,
   "id": "e4e27867",
   "metadata": {
    "scrolled": true
   },
   "outputs": [
    {
     "name": "stdout",
     "output_type": "stream",
     "text": [
      "新增成功\n",
      "新增成功\n",
      "新增成功\n",
      "新增成功\n",
      "新增成功\n",
      "新增成功\n",
      "新增成功\n",
      "新增成功\n",
      "新增成功\n",
      "新增成功\n",
      "新增成功\n",
      "新增成功\n",
      "新增成功\n",
      "新增成功\n",
      "新增成功\n",
      "新增成功\n",
      "新增成功\n",
      "新增成功\n",
      "新增成功\n",
      "新增成功\n",
      "新增成功\n",
      "新增成功\n"
     ]
    }
   ],
   "source": [
    "import requests, datetime\n",
    "import json\n",
    "import firebase_admin\n",
    "from firebase_admin import credentials\n",
    "from firebase_admin import firestore\n",
    "\n",
    "\n",
    "area = [\"001\",\"005\",\"009\",\"013\",\"017\",\"021\",\"025\",\"029\",\"033\",\"037\",\"041\",\"045\",\"049\",\"053\",\"057\",\"061\",\"065\",\"069\",\"073\",\"077\",\"081\",\"085\"]\n",
    "information_list = []\n",
    "for i in area:\n",
    "    url = 'https://opendata.cwb.gov.tw/api/v1/rest/datastore/F-D0047-{}?Authorization=CWB-40C73C51-9AF7-4B8B-A5BE-8635FB67523F&format=JSON'.format(i)\n",
    "    data = requests.get(url).json()\n",
    "    information_list.append(data)\n",
    "\n",
    "cred = credentials.Certificate('./serviceAccount.json')\n",
    "# firebase_admin.initialize_app(cred)\n",
    "db = firestore.client()\n",
    "\n",
    "for y in information_list:\n",
    "    doc_ref = db.collection(str(datetime.date.today())).document(y[\"records\"][\"locations\"][0][\"locationsName\"])\n",
    "    doc_ref.set({\"地區\":y[\"records\"][\"locations\"][0][\"location\"]})\n",
    "    for z in y[\"records\"][\"locations\"][0][\"location\"]:\n",
    "        try:\n",
    "            doc_ref.update(({z[\"locationName\"]:z[\"weatherElement\"]}))\n",
    "            print(\"新增成功\")\n",
    "        except:\n",
    "            print(\"新增失敗\")\n",
    "                \n",
    "        break\n",
    "\n",
    "\n",
    "    "
   ]
  }
 ],
 "metadata": {
  "kernelspec": {
   "display_name": "Python 3 (ipykernel)",
   "language": "python",
   "name": "python3"
  },
  "language_info": {
   "codemirror_mode": {
    "name": "ipython",
    "version": 3
   },
   "file_extension": ".py",
   "mimetype": "text/x-python",
   "name": "python",
   "nbconvert_exporter": "python",
   "pygments_lexer": "ipython3",
   "version": "3.9.12"
  }
 },
 "nbformat": 4,
 "nbformat_minor": 5
}
